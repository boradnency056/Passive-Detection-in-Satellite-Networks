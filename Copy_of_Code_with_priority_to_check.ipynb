{
  "nbformat": 4,
  "nbformat_minor": 0,
  "metadata": {
    "colab": {
      "provenance": []
    },
    "kernelspec": {
      "name": "python3",
      "display_name": "Python 3"
    },
    "language_info": {
      "name": "python"
    }
  },
  "cells": [
    {
      "cell_type": "markdown",
      "source": [
        "CODE WHICH PLOTS GRAPH AS PER NUMBER OF SATELLITES AND OBJECTS WHICH PERFECT DEGREES AND SOURCE AND DESTINATION NODE\n",
        "It also gives Max flow with different capacities\n",
        "Added priorities "
      ],
      "metadata": {
        "id": "_i4vIWSVys0x"
      }
    },
    {
      "cell_type": "code",
      "source": [
        "pip install gurobipy"
      ],
      "metadata": {
        "id": "FtOGGVT_uMj2",
        "colab": {
          "base_uri": "https://localhost:8080/"
        },
        "outputId": "df11e3b1-cb93-4436-aa3e-59c819002ca8"
      },
      "execution_count": 2,
      "outputs": [
        {
          "output_type": "stream",
          "name": "stdout",
          "text": [
            "Looking in indexes: https://pypi.org/simple, https://us-python.pkg.dev/colab-wheels/public/simple/\n",
            "Collecting gurobipy\n",
            "  Downloading gurobipy-10.0.1-cp39-cp39-manylinux2014_x86_64.whl (12.8 MB)\n",
            "\u001b[2K     \u001b[90m━━━━━━━━━━━━━━━━━━━━━━━━━━━━━━━━━━━━━━━━\u001b[0m \u001b[32m12.8/12.8 MB\u001b[0m \u001b[31m25.1 MB/s\u001b[0m eta \u001b[36m0:00:00\u001b[0m\n",
            "\u001b[?25hInstalling collected packages: gurobipy\n",
            "Successfully installed gurobipy-10.0.1\n"
          ]
        }
      ]
    },
    {
      "cell_type": "code",
      "source": [
        "pip install --upgrade scipy networkx"
      ],
      "metadata": {
        "id": "RTs5AdxuDNIJ",
        "colab": {
          "base_uri": "https://localhost:8080/"
        },
        "outputId": "b06575f9-a6c7-44aa-c6f5-b8955625d187"
      },
      "execution_count": 3,
      "outputs": [
        {
          "output_type": "stream",
          "name": "stdout",
          "text": [
            "Looking in indexes: https://pypi.org/simple, https://us-python.pkg.dev/colab-wheels/public/simple/\n",
            "Requirement already satisfied: scipy in /usr/local/lib/python3.9/dist-packages (1.10.1)\n",
            "Requirement already satisfied: networkx in /usr/local/lib/python3.9/dist-packages (3.0)\n",
            "Requirement already satisfied: numpy<1.27.0,>=1.19.5 in /usr/local/lib/python3.9/dist-packages (from scipy) (1.22.4)\n"
          ]
        }
      ]
    },
    {
      "cell_type": "code",
      "source": [
        "import gurobipy\n",
        "# from IPython.core.display import set_matplotlib_formats\n",
        "import numpy as np\n",
        "import pandas as pd\n",
        "import gurobipy as gp\n",
        "import networkx as nx\n",
        "import random\n",
        "import math\n",
        "from math import acos, sqrt, degrees\n",
        "from gurobipy import *\n",
        "\n",
        "satellite = 2  # Number of satellites\n",
        "\n",
        "obj = 5 # Number of objects\n",
        "\n",
        "\n",
        "#To generate coordinates\n",
        "satellite_x_list=[]\n",
        "satellite_y_list=[]\n",
        "object_x_list=[]\n",
        "object_y_list=[]\n",
        "deg_angle_list = []\n",
        "\n",
        "# Create a directed graph\n",
        "G = nx.DiGraph()\n",
        "\n",
        "#To generate satellite coordinates\n",
        "\n",
        "for i in range(0,satellite):\n",
        "  satellite_smallest = 100*random.random();\n",
        "  # satellite_smallest = 100*random.randrange(2,20);\n",
        "  satellite_x = 50-100*random.randrange(2,4);\n",
        "  satellite_y = 50-100*random.random();\n",
        "  satellite_x_list.append(satellite_x)\n",
        "  satellite_y_list.append(satellite_y)\n",
        "  satellite_x_largest = max(satellite_x_list)\n",
        "print(\"-------------------------------------------\")\n",
        "print(\"X-coordinates of Satellites\",satellite_x_list)\n",
        "print(\"Y-coordinates of Satellites\",satellite_y_list)\n",
        "\n",
        "#To generate Object coordinates\n",
        "\n",
        "for j in range(0,obj):\n",
        "  object_x = 100*random.random();\n",
        "  # object_x = 100*random.randrange(-20,-2);\n",
        "  while object_x < satellite_x_largest:\n",
        "    object_x = 50-100*random.randrange(-20,-2);\n",
        "  object_y = 50-100*random.random();\n",
        "  object_x_list.append(object_x)\n",
        "  object_y_list.append(object_y)\n",
        "print(\"-------------------------------------------\")\n",
        "print(\"X-coordinates of Objects\",object_x_list)\n",
        "print(\"Y-coordinates of Objects\",object_y_list)\n",
        "\n",
        "print(\"Smallest x coordinate \")\n",
        "# print(\"-------------------------------------------\")\n",
        "\n",
        "# To plot graph\n",
        "\n",
        "import matplotlib.pyplot as plt\n",
        "\n",
        "plt.scatter(satellite_x_list, satellite_y_list,c='r')\n",
        "plt.scatter(object_x_list, object_y_list,c='g')\n",
        "\n",
        "#To label scatter plots\n",
        "for i in range(satellite):\n",
        "  label = \"S\"+str(i+1)\n",
        "  plt.text(x=satellite_x_list[i],y=satellite_y_list[i],s=label,fontdict=dict(color='black',size=12))\n",
        "\n",
        "for i in range(obj):\n",
        "  label = \"O\"+str(i+1)\n",
        "  plt.text(x=object_x_list[i],y=object_y_list[i],s=label,fontdict=dict(color='black',size=14))\n",
        "\n",
        "# Add nodes to the graph\n",
        "for si in range(satellite):\n",
        "    G.add_node(si, pos=(satellite_x_list[si], satellite_y_list[si]),priority = 1)\n",
        "\n",
        "for oj in range(obj):\n",
        "    G.add_node(satellite+oj, pos=(object_x_list[oj], object_y_list[oj]),priority = oj+2)\n",
        "\n",
        "print(G.nodes(data=True))\n",
        "\n",
        "for i in range(satellite):\n",
        "  for j in range(obj):\n",
        "    # Calculating Distance \n",
        "    dist = math.sqrt( (object_x_list[j] - satellite_x_list[i])**2 + (object_y_list[j] - satellite_y_list[i])**2 )\n",
        "    print(\"Distance of Satellite\",i,\"and object\",j,\"is\",dist)\n",
        "\n",
        "    #Calculating angle\n",
        "    angle = math.atan2(object_y_list[j]-satellite_y_list[i], object_x_list[j]-satellite_x_list[i])\n",
        "\n",
        "    #Convert to degrees\n",
        "    deg_angle = degrees(angle)\n",
        "    print(\"Angle of Satellite\",i,\"and object\",j,\"is\",deg_angle)\n",
        "\n",
        "\n",
        "# To define the type based on angle - TYPE 1\n",
        "    if -22.5 < deg_angle < 22.5:\n",
        "      print(\"Type 1\")\n",
        "      angle_rng = 45  \n",
        "      # Detecting object based on Angle\n",
        "        # to find probability\n",
        "      p_angle = (1-(2*abs(deg_angle)/angle_rng))  \n",
        "      # print(\"Prob of angle is:\",p_angle)\n",
        "      #to find distance range\n",
        "      distance_rng = ((angle_rng/deg_angle)**2)*10  \n",
        "\n",
        "      # Detecting object based on Distance\n",
        "      if dist > distance_rng:\n",
        "        p_dis = 0\n",
        "        print(\"Probabilty of dist detecting is:\",p_dis)\n",
        "      else:\n",
        "        # print(\"Distance range\",distance_rng)\n",
        "        p_dis = (1-(dist/distance_rng))\n",
        "        # print(\"Prob of dist is:\",p_dis)\n",
        "        p = p_angle * p_dis\n",
        "        print(\"Probability of detecting object is:\",p)\n",
        "        plt.plot([satellite_x_list[i], object_x_list[j]], [satellite_y_list[i], object_y_list[j]])\n",
        "        # Add edges to graph\n",
        "        G.add_edge(i, j+satellite)\n",
        "      print(\"-----------------------------\")\n",
        "\n",
        "\n",
        "# To define the type based on angle - TYPE 2\n",
        "    elif -45 < deg_angle < 45:\n",
        "      print(\"Type 2\")\n",
        "      angle_rng = 90 \n",
        "      # Detecting object based on Angle\n",
        "      # to find probability\n",
        "      p_angle = (1-(2*abs(deg_angle)/angle_rng))  \n",
        "      # print(\"Prob of angle is:\",p_angle)\n",
        "      #to find distance range\n",
        "      distance_rng = ((angle_rng/deg_angle)**2)*10\n",
        "\n",
        "      # Detecting object based on Distance\n",
        "      if dist > distance_rng:\n",
        "        p_dis = 0\n",
        "        print(\"Probabilty of dist detecting is:\",p_dis)\n",
        "      else:\n",
        "        # print(\"Distance range\",distance_rng)\n",
        "        p_dis = (1-(dist/distance_rng))\n",
        "        # print(\"Prob of dist is:\",p_dis)\n",
        "        p = p_angle * p_dis\n",
        "        print(\"Probability of detecting object is:\",p)\n",
        "        plt.plot([satellite_x_list[i], object_x_list[j]], [satellite_y_list[i], object_y_list[j]])\n",
        "        # Add edges to graph\n",
        "        G.add_edge(i, j+satellite)\n",
        "      print(\"-----------------------------\")\n",
        "\n",
        "\n",
        "# To define the type based on angle - TYPE 3\n",
        "    elif -67.5 < deg_angle < 67.5:\n",
        "      print(\"Type 3\")\n",
        "      angle_rng = 135\n",
        "      # Detecting object based on Angle\n",
        "      # to find probability\n",
        "      p_angle = (1-(2*abs(deg_angle)/angle_rng))  \n",
        "      # print(\"Prob of angle is:\",p_angle)\n",
        "      #to find distance range\n",
        "      distance_rng = ((angle_rng/deg_angle)**2)*10\n",
        "\n",
        "      # Detecting object based on Distance\n",
        "      if dist > distance_rng:\n",
        "        p_dis = 0\n",
        "        print(\"Probabilty of dist detecting is:\",p_dis)\n",
        "      else:\n",
        "        # print(\"Distance range\",distance_rng)\n",
        "        p_dis = (1-(dist/distance_rng))\n",
        "        # print(\"Prob of dist is:\",p_dis)\n",
        "        p = p_angle * p_dis\n",
        "        print(\"Probability of detecting object is:\",p)\n",
        "        plt.plot([satellite_x_list[i], object_x_list[j]], [satellite_y_list[i], object_y_list[j]])\n",
        "        # Add edges to graph\n",
        "        G.add_edge(i, j+satellite)\n",
        "      print(\"-----------------------------\")\n",
        "\n",
        "      \n",
        "# To define the type based on angle - TYPE 4\n",
        "    elif -90 < deg_angle < 90:\n",
        "      print(\"Type 4\")\n",
        "      angle_rng = 180\n",
        "      # Detecting object based on Angle\n",
        "      # to find probability\n",
        "      p_angle = (1-(2*abs(deg_angle)/angle_rng))  \n",
        "      # print(\"Prob of angle is:\",p_angle)\n",
        "      #to find distance range\n",
        "      distance_rng = ((angle_rng/deg_angle)**2)*10\n",
        "\n",
        "      # Detecting object based on Distance\n",
        "      if dist > distance_rng:\n",
        "        p_dis = 0\n",
        "        print(\"Probabilty of dist detecting is:\",p_dis)\n",
        "      else:\n",
        "        # print(\"Distance range\",distance_rng)\n",
        "        p_dis = (1-(dist/distance_rng))\n",
        "        # print(\"Prob of dist is:\",p_dis)\n",
        "        p = p_angle * p_dis\n",
        "        print(\"Probability of detecting object is:\",p)\n",
        "        plt.plot([satellite_x_list[i], object_x_list[j]], [satellite_y_list[i], object_y_list[j]])\n",
        "        # Add edges to graph\n",
        "        G.add_edge(i, j+satellite)\n",
        "      print(\"-----------------------------\")\n",
        "\n",
        "print(\"graph is:\",G.edges())\n",
        "print(G)\n",
        "print(G.nodes(data=True))\n",
        "\n",
        "\n",
        "# #     # print(\"Probability of Satellite\",i,\"and object\",j,\"is\",prob)\n",
        "# #     print(\"               \")\n",
        "    # deg_angle_list.append(deg_angle)\n",
        "    # print(\"List of degree angle:\",deg_angle_list1)\n",
        "# # print(\"Max of degree angle is\",max_degree_angle)    \n",
        "\n",
        "\n",
        "# # Create optimization model\n",
        "\n",
        "# model = gurobipy.Model('trymodel')\n",
        "\n",
        "# # Create decision variables to represent the probability of detecting an object\n",
        "# dvar = model.addVars(satellite, obj, vtype=gurobipy.GRB.INTEGER)\n",
        "\n",
        "# # # Calculate the total probability of detecting all objects\n",
        "# # detection_prob = gp.quicksum(dvar[i, j] for i in range(satellite) for j in range(obj))\n",
        "# # print(\"It is:\",detection_prob)\n",
        "\n",
        "# # Set the objective function to maximize the total probability of detecting all objects\n",
        "# model.setObjective(dvar.sum(), gurobipy.GRB.MAXIMIZE)\n",
        "\n",
        "# # Constrain each object to be detected by at least one satellite\n",
        "# model.addConstrs(dvar.sum(j, '*') >= 1 for j in range(obj))\n",
        "\n",
        "# # Optimize the model\n",
        "# model.optimize()\n",
        "\n",
        "# Results\n",
        "# for i in range(satellite):\n",
        "#     for j in range(obj):\n",
        "#         print(\"Probability of satellite\", i, \"detecting object\", j, \":\", dvar[i, j])\n",
        "\n",
        "\n",
        "# model.optimize\n",
        "# print(model.display())\n",
        "\n"
      ],
      "metadata": {
        "colab": {
          "base_uri": "https://localhost:8080/",
          "height": 1000
        },
        "id": "qCmFhDgODTkp",
        "outputId": "af5a8b73-4dac-4dd5-a2ef-559e3c72ae93"
      },
      "execution_count": 4,
      "outputs": [
        {
          "output_type": "stream",
          "name": "stdout",
          "text": [
            "-------------------------------------------\n",
            "X-coordinates of Satellites [-150, -250]\n",
            "Y-coordinates of Satellites [19.431314477049078, 29.540436951612815]\n",
            "-------------------------------------------\n",
            "X-coordinates of Objects [41.09410362744072, 21.356246950136082, 23.371682803731197, 15.173386058692529, 30.36205897179407]\n",
            "Y-coordinates of Objects [21.646316187241133, 6.1413824847799106, 14.419119712429875, -27.154809773259387, 31.789132764062444]\n",
            "Smallest x coordinate \n",
            "[(0, {'pos': (-150, 19.431314477049078), 'priority': 1}), (1, {'pos': (-250, 29.540436951612815), 'priority': 1}), (2, {'pos': (41.09410362744072, 21.646316187241133), 'priority': 2}), (3, {'pos': (21.356246950136082, 6.1413824847799106), 'priority': 3}), (4, {'pos': (23.371682803731197, 14.419119712429875), 'priority': 4}), (5, {'pos': (15.173386058692529, -27.154809773259387), 'priority': 5}), (6, {'pos': (30.36205897179407, 31.789132764062444), 'priority': 6})]\n",
            "Distance of Satellite 0 and object 0 is 191.10694041230215\n",
            "Angle of Satellite 0 and object 0 is 0.664094621369807\n",
            "Type 1\n",
            "Probability of detecting object is: 0.9664454399157963\n",
            "-----------------------------\n",
            "Distance of Satellite 0 and object 1 is 171.8708400549528\n",
            "Angle of Satellite 0 and object 1 is -4.434829525341177\n",
            "Type 1\n",
            "Probability of detecting object is: 0.6688699957186711\n",
            "-----------------------------\n",
            "Distance of Satellite 0 and object 2 is 173.444119227364\n",
            "Angle of Satellite 0 and object 2 is -1.6559661555071616\n",
            "Type 1\n",
            "Probability of detecting object is: 0.9046426152229166\n",
            "-----------------------------\n",
            "Distance of Satellite 0 and object 3 is 171.61734887463757\n",
            "Angle of Satellite 0 and object 3 is -15.750774888238544\n",
            "Type 1\n",
            "Probabilty of dist detecting is: 0\n",
            "-----------------------------\n",
            "Distance of Satellite 0 and object 4 is 180.784921908216\n",
            "Angle of Satellite 0 and object 4 is 3.919593482461177\n",
            "Type 1\n",
            "Probability of detecting object is: 0.7125318372324416\n",
            "-----------------------------\n",
            "Distance of Satellite 1 and object 0 is 291.20112346848134\n",
            "Angle of Satellite 1 and object 0 is -1.553411655918212\n",
            "Type 1\n",
            "Probability of detecting object is: 0.8986543203981697\n",
            "-----------------------------\n",
            "Distance of Satellite 1 and object 1 is 272.363228995408\n",
            "Angle of Satellite 1 and object 1 is -4.928425019432789\n",
            "Type 1\n",
            "Probability of detecting object is: 0.525825130083143\n",
            "-----------------------------\n",
            "Distance of Satellite 1 and object 2 is 273.7895746627176\n",
            "Angle of Satellite 1 and object 2 is -3.166039923958555\n",
            "Type 1\n",
            "Probability of detecting object is: 0.7428308238262143\n",
            "-----------------------------\n",
            "Distance of Satellite 1 and object 3 is 271.1665091323531\n",
            "Angle of Satellite 1 and object 3 is -12.068389982043954\n",
            "Type 1\n",
            "Probabilty of dist detecting is: 0\n",
            "-----------------------------\n",
            "Distance of Satellite 1 and object 4 is 280.37107686735567\n",
            "Angle of Satellite 1 and object 4 is 0.45954155567887467\n",
            "Type 1\n",
            "Probability of detecting object is: 0.9767117801396848\n",
            "-----------------------------\n",
            "graph is: [(0, 2), (0, 3), (0, 4), (0, 6), (1, 2), (1, 3), (1, 4), (1, 6)]\n",
            "DiGraph with 7 nodes and 8 edges\n",
            "[(0, {'pos': (-150, 19.431314477049078), 'priority': 1}), (1, {'pos': (-250, 29.540436951612815), 'priority': 1}), (2, {'pos': (41.09410362744072, 21.646316187241133), 'priority': 2}), (3, {'pos': (21.356246950136082, 6.1413824847799106), 'priority': 3}), (4, {'pos': (23.371682803731197, 14.419119712429875), 'priority': 4}), (5, {'pos': (15.173386058692529, -27.154809773259387), 'priority': 5}), (6, {'pos': (30.36205897179407, 31.789132764062444), 'priority': 6})]\n"
          ]
        },
        {
          "output_type": "display_data",
          "data": {
            "text/plain": [
              "<Figure size 432x288 with 1 Axes>"
            ],
            "image/png": "[encoded data removed]"
          },
          "metadata": {
            "needs_background": "light"
          }
        }
      ]
    },
    {
      "cell_type": "code",
      "source": [
        "# Calculating mean of Y coordinates\n",
        "mean_s_y=sum(satellite_y_list)/len(satellite_y_list)\n",
        "# print(\"Mean of y-coord of satellite:\",mean_s_y)\n",
        "\n",
        "# print(object_y_list)\n",
        "mean_o_y=sum(object_y_list)/len(object_y_list)\n",
        "print(\"Mean of y-coord of object:\",mean_o_y)\n",
        "\n",
        "#Source node coordinates\n",
        "min_x_s=min(satellite_x_list)\n",
        "\n",
        "delta_x = 30\n",
        "\n",
        "# Create the dummy node coordinate\n",
        "source_coord = (min_x_s - delta_x, mean_s_y)\n",
        "\n",
        "# Add the dummy node coordinate to the beginning of the satellite list\n",
        "# satellite_coords.insert(0, dummy_coord)\n",
        "\n",
        "# Print the updated list of coordinates\n",
        "print(source_coord)\n",
        "\n",
        "#Destination node coordinates\n",
        "max_x_o=max(object_x_list)\n",
        "\n",
        "delta_x = 20\n",
        "\n",
        "# Create the dummy node coordinate\n",
        "dest_coord = (max_x_o + delta_x, mean_o_y)\n",
        "\n",
        "# Add the dummy node coordinate to the beginning of the satellite list\n",
        "# satellite_coords.insert(0, dummy_coord)\n",
        "\n",
        "# Print the updated list of coordinates\n",
        "print(dest_coord)\n"
      ],
      "metadata": {
        "colab": {
          "base_uri": "https://localhost:8080/"
        },
        "id": "qRsWBAhPb862",
        "outputId": "fba6eb7e-6cf9-4f75-a3cc-4616434832d5"
      },
      "execution_count": null,
      "outputs": [
        {
          "output_type": "stream",
          "name": "stdout",
          "text": [
            "Mean of y-coord of object: 20.03836811040582\n",
            "(-180, -1.251042304234172)\n",
            "(106.95268670571579, 20.03836811040582)\n"
          ]
        }
      ]
    },
    {
      "cell_type": "code",
      "source": [
        "out_degree_list = []\n",
        "in_degree_list = []\n",
        "\n",
        "nodes_list = G.nodes()\n",
        "no_of_nodes = len(nodes_list)\n",
        "# print(no_of_nodes)\n",
        "\n",
        "# add nodes to the graph\n",
        "G.add_nodes_from(range(1, no_of_nodes+1))\n",
        "\n",
        "# add a dummy source node (id=0) and connect it to all satellite nodes\n",
        "G.add_node(no_of_nodes,pos=source_coord,priority = 1)\n",
        "G.add_edges_from([(no_of_nodes, i) for i in range(satellite)])\n",
        "\n",
        "# add a dummy destination node (id=n+1) and connect all object nodes to it\n",
        "G.add_node(no_of_nodes+1,pos=dest_coord,priority = 8)\n",
        "G.add_edges_from([(j+satellite,no_of_nodes+1) for j in range(obj)])\n",
        "# print(G)\n",
        "\n",
        "\n",
        "print(G.nodes(data=True))\n",
        "\n",
        "nodes_list_u = G.nodes()\n",
        "updated_list=len(nodes_list_u)\n",
        "# print(updated_list)\n",
        "# Calculate outdegree and indegree counts for each node\n",
        "out_degree_counts = G.out_degree()\n",
        "in_degree_counts = G.in_degree()\n",
        "\n",
        "# Print the outdegree and indegree counts for each node\n",
        "for i in range(updated_list):\n",
        "    out_degree = out_degree_counts[i]\n",
        "    in_degree = in_degree_counts[i]\n",
        "    out_degree_list.append(out_degree)\n",
        "    in_degree_list.append(in_degree)\n",
        "    # in_degree = in_degree_counts[i+1]\n",
        "    print(f\"Node {i}: outdegree={out_degree}, indegree={in_degree}\")\n"
      ],
      "metadata": {
        "colab": {
          "base_uri": "https://localhost:8080/"
        },
        "id": "4FI5i-sgidsp",
        "outputId": "6e4ff4e6-b6bf-4df0-924d-b3638c212e88"
      },
      "execution_count": null,
      "outputs": [
        {
          "output_type": "stream",
          "name": "stdout",
          "text": [
            "[(0, {'pos': (-150, -32.82573265395989), 'priority': 1}), (1, {'pos': (-150, 30.323648045491545), 'priority': 1}), (2, {'pos': (48.11733769438125, 5.986907923266536), 'priority': 2}), (3, {'pos': (82.75070798986222, 25.863578573279955), 'priority': 3}), (4, {'pos': (58.54435649164088, 6.18753110060274), 'priority': 4}), (5, {'pos': (16.87126519751545, 23.32164260552576), 'priority': 5}), (6, {'pos': (86.95268670571579, 38.8321803493541), 'priority': 6}), (7, {'pos': (-180, -1.251042304234172), 'priority': 1}), (8, {'pos': (106.95268670571579, 20.03836811040582), 'priority': 8})]\n",
            "Node 0: outdegree=0, indegree=1\n",
            "Node 1: outdegree=5, indegree=1\n",
            "Node 2: outdegree=1, indegree=1\n",
            "Node 3: outdegree=1, indegree=1\n",
            "Node 4: outdegree=1, indegree=1\n",
            "Node 5: outdegree=1, indegree=1\n",
            "Node 6: outdegree=1, indegree=1\n",
            "Node 7: outdegree=2, indegree=0\n",
            "Node 8: outdegree=0, indegree=5\n"
          ]
        }
      ]
    },
    {
      "cell_type": "code",
      "source": [
        "print(out_degree_list)\n",
        "print(in_degree_list)"
      ],
      "metadata": {
        "colab": {
          "base_uri": "https://localhost:8080/"
        },
        "id": "jsUQMCHXhX60",
        "outputId": "bfb64261-ebe3-40a6-aba6-af97a38d6198"
      },
      "execution_count": null,
      "outputs": [
        {
          "output_type": "stream",
          "name": "stdout",
          "text": [
            "[0, 5, 1, 1, 1, 1, 1, 2, 0]\n",
            "[1, 1, 1, 1, 1, 1, 1, 0, 5]\n"
          ]
        }
      ]
    },
    {
      "cell_type": "code",
      "source": [
        "import matplotlib.pyplot as plt\n",
        "\n",
        "\n",
        "# draw the graph using NetworkX\n",
        "pos = nx.get_node_attributes(G, 'pos')\n",
        "nx.draw(G, pos=pos, with_labels=True)\n",
        "\n",
        "# show the plot\n",
        "plt.show()\n"
      ],
      "metadata": {
        "id": "PQMEdiBtvAAP",
        "colab": {
          "base_uri": "https://localhost:8080/",
          "height": 319
        },
        "outputId": "0021f9be-aed8-48b7-900b-96c5fc827b5e"
      },
      "execution_count": null,
      "outputs": [
        {
          "output_type": "display_data",
          "data": {
            "text/plain": [
              "<Figure size 432x288 with 1 Axes>"
            ],
            "image/png": "[encoded data removed]"
          },
          "metadata": {}
        }
      ]
    },
    {
      "cell_type": "code",
      "source": [
        "priority_list=[]\n",
        "for node in G.nodes():\n",
        "    priority = G.nodes[node]['priority']\n",
        "    priority_list.append(priority)\n",
        "    print(\"Priority of node\", node, \"is\", priority)\n",
        "# print(priority_list)"
      ],
      "metadata": {
        "colab": {
          "base_uri": "https://localhost:8080/"
        },
        "id": "p2d4yaYPK7BE",
        "outputId": "f5c27efa-4340-41a2-d69d-d44d5994d136"
      },
      "execution_count": null,
      "outputs": [
        {
          "output_type": "stream",
          "name": "stdout",
          "text": [
            "Priority of node 0 is 1\n",
            "Priority of node 1 is 1\n",
            "Priority of node 2 is 2\n",
            "Priority of node 3 is 3\n",
            "Priority of node 4 is 4\n",
            "Priority of node 5 is 5\n",
            "Priority of node 6 is 6\n",
            "Priority of node 7 is 1\n",
            "Priority of node 8 is 8\n"
          ]
        }
      ]
    },
    {
      "cell_type": "code",
      "source": [
        "capacity=[]\n",
        "i=1\n",
        "for i in range(updated_list):\n",
        "  capacity.append(i+1)\n",
        "  # print(capacity)\n",
        "\n",
        "# capacity = [3,3,3,3,3,3,3,3]\n",
        "edge_capacity = [(i, j, capacity[i]) for (i, j) in G.edges()]\n",
        "updated_edge_capacity = [(i, j, capacity[i]*priority_list[node]) for (i, j) in G.edges()]\n",
        "print(edge_capacity)\n",
        "print(updated_edge_capacity)"
      ],
      "metadata": {
        "colab": {
          "base_uri": "https://localhost:8080/"
        },
        "id": "p4QKBR2Z8LmI",
        "outputId": "b1df9e80-60f9-41df-cad9-620f899ba659"
      },
      "execution_count": null,
      "outputs": [
        {
          "output_type": "stream",
          "name": "stdout",
          "text": [
            "[(1, 2, 2), (1, 3, 2), (1, 4, 2), (1, 5, 2), (1, 6, 2), (2, 8, 3), (3, 8, 4), (4, 8, 5), (5, 8, 6), (6, 8, 7), (7, 0, 8), (7, 1, 8)]\n",
            "[(1, 2, 16), (1, 3, 16), (1, 4, 16), (1, 5, 16), (1, 6, 16), (2, 8, 24), (3, 8, 32), (4, 8, 40), (5, 8, 48), (6, 8, 56), (7, 0, 64), (7, 1, 64)]\n"
          ]
        }
      ]
    },
    {
      "cell_type": "code",
      "source": [
        "# A Python implementation of the Ford-Fulkerson algorithm\n",
        "# for finding the maximum flow in a flow network.\n",
        "\n",
        "from collections import deque\n",
        "\n",
        "# Returns true if there is a path from source to sink in\n",
        "# residual graph. Also fills parent[] to store the path\n",
        "def bfs(graph, source, sink, parent):\n",
        "    \n",
        "    # Mark all the vertices as not visited\n",
        "    visited = [False] * len(graph)\n",
        "    \n",
        "    # Create a queue for BFS\n",
        "    queue = deque()\n",
        "    \n",
        "    # Mark the source node as visited and enqueue it\n",
        "    queue.append(source)\n",
        "    visited[source] = True\n",
        "    \n",
        "    # Standard BFS Loop\n",
        "    while queue:\n",
        "        \n",
        "        # Dequeue a vertex from queue and print it\n",
        "        u = queue.popleft()\n",
        "        \n",
        "        # Get all adjacent vertices of the dequeued vertex u\n",
        "        # If a adjacent has not been visited, then mark it\n",
        "        # visited and enqueue it\n",
        "        for ind, val in enumerate(graph[u]):\n",
        "            if visited[ind] == False and val > 0 :\n",
        "                queue.append(ind)\n",
        "                visited[ind] = True\n",
        "                parent[ind] = u\n",
        "    \n",
        "    # If we can reach sink in BFS starting from source then\n",
        "    # return true else false\n",
        "    return True if visited[sink] else False\n",
        " \n",
        " \n",
        "# Returns the maximum flow from source to sink in the given graph\n",
        "def ford_fulkerson(graph, source, sink):\n",
        "    \n",
        "    # This array is filled by BFS and to store path\n",
        "    parent = [-1] * len(graph)\n",
        " \n",
        "    max_flow = 0  # There is no flow initially\n",
        " \n",
        "    # Augument the flow while there is path from source to sink\n",
        "    while bfs(graph, source, sink, parent) :\n",
        " \n",
        "        # Find minimum residual capacity of the edges along the\n",
        "        # path filled by BFS. Or we can say find the maximum flow\n",
        "        # through the path found.\n",
        "        path_flow = float(\"Inf\")\n",
        "        s = sink\n",
        "        while(s != source):\n",
        "            path_flow = min(path_flow, graph[parent[s]][s])\n",
        "            s = parent[s]\n",
        " \n",
        "        # Add path flow to overall flow\n",
        "        max_flow +=  path_flow\n",
        " \n",
        "        # update residual capacities of the edges and reverse edges\n",
        "        # along the path\n",
        "        v = sink\n",
        "        while(v !=  source):\n",
        "            u = parent[v]\n",
        "            graph[u][v] -= path_flow\n",
        "            graph[v][u] += path_flow\n",
        "            v = parent[v]\n",
        " \n",
        "    # return maximum flow\n",
        "    return max_flow\n"
      ],
      "metadata": {
        "id": "-s5praO0c6Em"
      },
      "execution_count": null,
      "outputs": []
    },
    {
      "cell_type": "code",
      "source": [
        "# WITHOUT PRIORITIES\n",
        "# Determine the number of vertices in the graph\n",
        "V = max(max(u, v) for u, v, _ in edge_capacity) + 1\n",
        "\n",
        "# Create an empty adjacency matrix filled with zeros\n",
        "graph = [[0] * V for _ in range(V)]\n",
        "\n",
        "# Update the matrix with the capacities of the edges\n",
        "for u, v, capacity in edge_capacity:\n",
        "    graph[u][v] = capacity\n",
        "\n",
        "print(graph)\n",
        " "
      ],
      "metadata": {
        "colab": {
          "base_uri": "https://localhost:8080/"
        },
        "id": "Q7mrgNAJe5pS",
        "outputId": "1cedebd1-e21b-4ede-dd52-c029584c280e"
      },
      "execution_count": null,
      "outputs": [
        {
          "output_type": "stream",
          "name": "stdout",
          "text": [
            "[[0, 0, 0, 0, 0, 0, 0, 0, 0], [0, 0, 2, 2, 2, 2, 2, 0, 0], [0, 0, 0, 0, 0, 0, 0, 0, 3], [0, 0, 0, 0, 0, 0, 0, 0, 4], [0, 0, 0, 0, 0, 0, 0, 0, 5], [0, 0, 0, 0, 0, 0, 0, 0, 6], [0, 0, 0, 0, 0, 0, 0, 0, 7], [8, 8, 0, 0, 0, 0, 0, 0, 0], [0, 0, 0, 0, 0, 0, 0, 0, 0]]\n"
          ]
        }
      ]
    },
    {
      "cell_type": "code",
      "source": [
        "# WITH PRIORITIES\n",
        "# Determine the number of vertices in the graph\n",
        "V = max(max(u, v) for u, v, _ in updated_edge_capacity) + 1\n",
        "\n",
        "# Create an empty adjacency matrix filled with zeros\n",
        "updated_graph = [[0] * V for _ in range(V)]\n",
        "\n",
        "# Update the matrix with the capacities of the edges\n",
        "for u, v, capacity in updated_edge_capacity:\n",
        "    updated_graph[u][v] = capacity\n",
        "\n",
        "print(updated_graph)\n",
        " "
      ],
      "metadata": {
        "colab": {
          "base_uri": "https://localhost:8080/"
        },
        "id": "maEiyldVUnEu",
        "outputId": "9e6516df-b90a-46ce-9966-a48e2c5c49c5"
      },
      "execution_count": null,
      "outputs": [
        {
          "output_type": "stream",
          "name": "stdout",
          "text": [
            "[[0, 0, 0, 0, 0, 0, 0, 0, 0], [0, 0, 16, 16, 16, 16, 16, 0, 0], [0, 0, 0, 0, 0, 0, 0, 0, 24], [0, 0, 0, 0, 0, 0, 0, 0, 32], [0, 0, 0, 0, 0, 0, 0, 0, 40], [0, 0, 0, 0, 0, 0, 0, 0, 48], [0, 0, 0, 0, 0, 0, 0, 0, 56], [64, 64, 0, 0, 0, 0, 0, 0, 0], [0, 0, 0, 0, 0, 0, 0, 0, 0]]\n"
          ]
        }
      ]
    },
    {
      "cell_type": "code",
      "source": [
        "# WITHOUT PRIORITIES\n",
        "source = updated_list-2\n",
        "sink = updated_list-1\n",
        "max_flow = ford_fulkerson(graph, source, sink)\n",
        "\n",
        "# print the maximum flow\n",
        "print(\"Maximum flow:\", max_flow)\n"
      ],
      "metadata": {
        "colab": {
          "base_uri": "https://localhost:8080/"
        },
        "id": "aDxBvRboyW5-",
        "outputId": "21bfb417-bf2d-4ada-fd1e-bc3d66dd6676"
      },
      "execution_count": null,
      "outputs": [
        {
          "output_type": "stream",
          "name": "stdout",
          "text": [
            "Maximum flow: 8\n"
          ]
        }
      ]
    },
    {
      "cell_type": "code",
      "source": [
        "# WITH PRIORITIES\n",
        "source = updated_list-2\n",
        "sink = updated_list-1\n",
        "max_flow = ford_fulkerson(updated_graph, source, sink)\n",
        "\n",
        "# print the maximum flow\n",
        "print(\"Maximum flow:\", max_flow)\n"
      ],
      "metadata": {
        "colab": {
          "base_uri": "https://localhost:8080/"
        },
        "id": "gzCMwnEBUy87",
        "outputId": "3d8e0af3-8c6e-491c-ed2e-1c0de55cbb35"
      },
      "execution_count": null,
      "outputs": [
        {
          "output_type": "stream",
          "name": "stdout",
          "text": [
            "Maximum flow: 64\n"
          ]
        }
      ]
    }
  ]
}