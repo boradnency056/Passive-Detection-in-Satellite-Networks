{
  "nbformat": 4,
  "nbformat_minor": 0,
  "metadata": {
    "colab": {
      "provenance": [],
      "authorship_tag": "ABX9TyNfNOAuRBP4VzDJ+B4ONgGn",
      "include_colab_link": true
    },
    "kernelspec": {
      "name": "python3",
      "display_name": "Python 3"
    },
    "language_info": {
      "name": "python"
    }
  },
  "cells": [
    {
      "cell_type": "markdown",
      "metadata": {
        "id": "view-in-github",
        "colab_type": "text"
      },
      "source": [
        "<a href=\"https://colab.research.google.com/github/Jayasritudi/SatelliteIntrusionDetection/blob/main/SatelliteObjectDetection.ipynb\" target=\"_parent\"><img src=\"https://colab.research.google.com/assets/colab-badge.svg\" alt=\"Open In Colab\"/></a>"
      ]
    },
    {
      "cell_type": "code",
      "execution_count": null,
      "metadata": {
        "id": "De3MB2O6zKgt"
      },
      "outputs": [],
      "source": [
        "#Initial File creating on Github"
      ]
    },
    {
      "cell_type": "code",
      "source": [
        "# Adding second version"
      ],
      "metadata": {
        "id": "DeGzKDeE0cmG"
      },
      "execution_count": null,
      "outputs": []
    }
  ]
}